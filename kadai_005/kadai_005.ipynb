{
  "nbformat": 4,
  "nbformat_minor": 0,
  "metadata": {
    "colab": {
      "provenance": []
    },
    "kernelspec": {
      "name": "python3",
      "display_name": "Python 3"
    },
    "language_info": {
      "name": "python"
    }
  },
  "cells": [
    {
      "cell_type": "code",
      "execution_count": 9,
      "metadata": {
        "colab": {
          "base_uri": "https://localhost:8080/"
        },
        "id": "ErBpxx6WIMiw",
        "outputId": "080ad6fb-adf3-40a2-e70e-fc3fe3fa965f"
      },
      "outputs": [
        {
          "output_type": "stream",
          "name": "stdout",
          "text": [
            "75.0cm^2\n"
          ]
        }
      ],
      "source": [
        "upper = 10\n",
        "under = 20\n",
        "height = 5\n",
        "area = (upper+under) * height / 2\n",
        "\n",
        "print(f\"{area}cm^2\")"
      ]
    }
  ]
}